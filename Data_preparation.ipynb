{
 "cells": [
  {
   "cell_type": "code",
   "execution_count": 13,
   "id": "7480c089-fdd0-4160-9e66-3c481d14a753",
   "metadata": {},
   "outputs": [],
   "source": [
    "import pandas as pd\n",
    "from scipy.io import loadmat\n",
    "import numpy as np\n",
    "import os"
   ]
  },
  {
   "cell_type": "code",
   "execution_count": 2,
   "id": "22020e67-da31-4f5b-907d-52e589d2144d",
   "metadata": {},
   "outputs": [
    {
     "name": "stdout",
     "output_type": "stream",
     "text": [
      "/home/dell/Documents/BRITS_copy\n"
     ]
    }
   ],
   "source": [
    "!pwd"
   ]
  },
  {
   "cell_type": "code",
   "execution_count": 33,
   "id": "2587565b-da13-4ac2-a216-6677662094ed",
   "metadata": {},
   "outputs": [],
   "source": [
    "for filename in os.listdir('../DCMG_data/Cyber/Voltage'):\n",
    "    data_dict1 = loadmat(os.path.join('../DCMG_data/Cyber/Voltage', filename))\n",
    "    del data_dict1['__header__'], data_dict1['__version__'], data_dict1['__globals__'], data_dict1['sim_version'], data_dict1['sim_date']\n",
    "    c = ['sim_name_y', 'sim_desc_y', 'sim_unit_y', 'sim_name_x', 'sim_unit_x']\n",
    "    for u in c:\n",
    "        del data_dict1[u]\n",
    "    arr = data_dict1['x']\n",
    "    col = data_dict1.keys()\n",
    "    keys = list(col)\n",
    "    keys.remove('x')\n",
    "    for i in keys:\n",
    "#         print(i, data_dict1[i].shape)\n",
    "        arr = np.hstack((arr, data_dict1[i].reshape(-1, 1)))\n",
    "    df = pd.DataFrame(arr, columns = ['x']+keys)\n",
    "    df.to_csv(os.path.join('../DCMG_data/Cyber_csv/Voltage', str(os.path.splitext(filename)[0])+ '.csv'), index = False)"
   ]
  },
  {
   "cell_type": "code",
   "execution_count": 34,
   "id": "e7514994-4a25-42d8-920d-c6a3fa921e78",
   "metadata": {},
   "outputs": [],
   "source": [
    "for filename in os.listdir('../DCMG_data/Cyber/Freq'):\n",
    "    data_dict1 = loadmat(os.path.join('../DCMG_data/Cyber/Freq', filename))\n",
    "    del data_dict1['__header__'], data_dict1['__version__'], data_dict1['__globals__'], data_dict1['sim_version'], data_dict1['sim_date']\n",
    "    c = ['sim_name_y', 'sim_desc_y', 'sim_unit_y', 'sim_name_x', 'sim_unit_x']\n",
    "    for u in c:\n",
    "        del data_dict1[u]\n",
    "    arr = data_dict1['x']\n",
    "    col = data_dict1.keys()\n",
    "    keys = list(col)\n",
    "    keys.remove('x')\n",
    "    for i in keys:\n",
    "#         print(i, data_dict1[i].shape)\n",
    "        arr = np.hstack((arr, data_dict1[i].reshape(-1, 1)))\n",
    "    df = pd.DataFrame(arr, columns = ['x']+keys)\n",
    "    df.to_csv(os.path.join('../DCMG_data/Cyber_csv/Freq', str(os.path.splitext(filename)[0])+ '.csv'), index = False)"
   ]
  },
  {
   "cell_type": "code",
   "execution_count": 21,
   "id": "548c185c-0979-4deb-9e5b-4519a9d9eb4e",
   "metadata": {},
   "outputs": [],
   "source": [
    "data_dict1 = loadmat('../DCMG_data/Cyber/Voltage/Vref_800.mat')"
   ]
  },
  {
   "cell_type": "code",
   "execution_count": 4,
   "id": "8c047cbe-aa4c-44db-b81a-c13ed0efa387",
   "metadata": {},
   "outputs": [],
   "source": [
    "del data_dict1['__header__'], data_dict1['__version__'], data_dict1['__globals__']"
   ]
  },
  {
   "cell_type": "code",
   "execution_count": 6,
   "id": "ed3f873f-7617-4059-bc15-6a3a15fb6fd7",
   "metadata": {},
   "outputs": [],
   "source": [
    "del data_dict1['sim_version'], data_dict1['sim_date'] "
   ]
  },
  {
   "cell_type": "code",
   "execution_count": 7,
   "id": "37061ee8-86d7-4861-a46c-1ba745a2b8e5",
   "metadata": {},
   "outputs": [
    {
     "data": {
      "text/plain": [
       "dict_keys(['x', 'Cont1_PL1', 'Cont1_QL1', 'Cont1_IL_d', 'Cont1_IL_q', 'Cont1_VL_d', 'Cont1_VL_q', 'Cont2_PL1', 'Cont2_QL1', 'Cont2_IL_d', 'Cont2_IL_q', 'Cont2_VL_d', 'Cont2_VL_q', 'Cont3_PL1', 'Cont3_QL1', 'Cont3_IL_d', 'Cont3_IL_q', 'Cont3_VL_d', 'Cont3_VL_q', 'Cont4_PL1', 'Cont4_QL1', 'Cont4_IL_d', 'Cont4_IL_q', 'Cont4_VL_d', 'Cont4_VL_q', 'Cont1_f', 'Cont2_f', 'Cont3_f', 'Cont4_f', 'm1P1_y', 'm2P2_y', 'm3P3_y', 'm4P4_y', 'n1Q1_y', 'n2Q2_y', 'n3Q3_y', 'n4Q4_y', 'VLLrms1_y', 'VLLrms2_y', 'VLLrms3_y', 'VLLrms4_y', 'Vb1rms_a_rms', 'Vb1rms_b_rms', 'Vb1rms_c_rms', 'Vb2rms_a_rms', 'Vb2rms_b_rms', 'Vb2rms_c_rms', 'Vb3rms_a_rms', 'Vb3rms_b_rms', 'Vb3rms_c_rms', 'Vb4rms_a_rms', 'Vb4rms_b_rms', 'Vb4rms_c_rms', 'I1arms_a_rms', 'I1arms_b_rms', 'I1arms_c_rms', 'I2arms_a_rms', 'I2arms_b_rms', 'I2arms_c_rms', 'I3arms_a_rms', 'I3arms_b_rms', 'I3arms_c_rms', 'I1brms_a_rms', 'I1brms_b_rms', 'I1brms_c_rms', 'I2brms_a_rms', 'I2brms_b_rms', 'I2brms_c_rms', 'I3brms_a_rms', 'I3brms_b_rms', 'I3brms_c_rms', 'IRMS1_a', 'IRMS1_b', 'IRMS1_c', 'IRMS2_a', 'IRMS2_b', 'IRMS2_c', 'IRMS3_a', 'IRMS3_b', 'IRMS3_c', 'Bus1_Vdbus', 'Bus1_Vqbus', 'Bus2_Vdbus', 'Bus2_Vqbus', 'Bus3_Vdbus', 'Bus3_Vqbus', 'Bus4_Vdbus', 'Bus4_Vqbus', 'sim_name_y', 'sim_desc_y', 'sim_unit_y', 'sim_name_x', 'sim_unit_x'])"
      ]
     },
     "execution_count": 7,
     "metadata": {},
     "output_type": "execute_result"
    }
   ],
   "source": [
    "data_dict1.keys()"
   ]
  },
  {
   "cell_type": "markdown",
   "id": "3a27390d-6a75-4c29-a7a9-de2f34dcadc6",
   "metadata": {},
   "source": [
    "controller 1: active power  \n",
    "1 => 2, 4\n",
    "   1\n",
    "  / \\\n",
    " 2   \n",
    " \n",
    "m1 => \n"
   ]
  },
  {
   "cell_type": "code",
   "execution_count": 11,
   "id": "207bce40-60ef-433f-ba54-4fea9484ce22",
   "metadata": {},
   "outputs": [],
   "source": [
    "col = data_dict.keys()"
   ]
  },
  {
   "cell_type": "code",
   "execution_count": 17,
   "id": "b4cef7ba-823b-4b51-9f4f-6915e19bcf2f",
   "metadata": {},
   "outputs": [
    {
     "data": {
      "text/plain": [
       "dict_keys"
      ]
     },
     "execution_count": 17,
     "metadata": {},
     "output_type": "execute_result"
    }
   ],
   "source": [
    "type(col)"
   ]
  },
  {
   "cell_type": "code",
   "execution_count": 24,
   "id": "3c615a08-d689-4ade-b0c9-08baf8bb48d1",
   "metadata": {},
   "outputs": [
    {
     "data": {
      "text/plain": [
       "['Cont1_PL1',\n",
       " 'Cont1_QL1',\n",
       " 'Cont1_f',\n",
       " 'Cont2_PL1',\n",
       " 'Cont2_QL1',\n",
       " 'Cont2_f',\n",
       " 'Cont3_PL1',\n",
       " 'Cont3_QL1',\n",
       " 'Cont3_f',\n",
       " 'Cont4_PL1',\n",
       " 'Cont4_QL1',\n",
       " 'Cont4_f',\n",
       " 'm1P1_y',\n",
       " 'm2P2_y',\n",
       " 'm3P3_y',\n",
       " 'm4P4_y',\n",
       " 'n1Q1_y',\n",
       " 'n2Q2_y',\n",
       " 'n3Q3_y',\n",
       " 'n4Q4_y',\n",
       " 'x']"
      ]
     },
     "execution_count": 24,
     "metadata": {},
     "output_type": "execute_result"
    }
   ],
   "source": [
    "keys = list(col)\n",
    "keys"
   ]
  },
  {
   "cell_type": "code",
   "execution_count": 25,
   "id": "c1376e5e-c809-4160-a425-354986dc9e4c",
   "metadata": {},
   "outputs": [
    {
     "data": {
      "text/plain": [
       "(20001, 21)"
      ]
     },
     "execution_count": 25,
     "metadata": {},
     "output_type": "execute_result"
    }
   ],
   "source": [
    "arr = data_dict['x']\n",
    "keys.remove('x')\n",
    "for i in keys:\n",
    "    arr = np.hstack((arr, data_dict[i]))\n",
    "arr.shape"
   ]
  },
  {
   "cell_type": "code",
   "execution_count": 10,
   "id": "37d4b4b1-8375-4f0f-a102-43833895289f",
   "metadata": {},
   "outputs": [
    {
     "data": {
      "text/plain": [
       "(20001, 1)"
      ]
     },
     "execution_count": 10,
     "metadata": {},
     "output_type": "execute_result"
    }
   ],
   "source": [
    "a.shape"
   ]
  },
  {
   "cell_type": "code",
   "execution_count": 26,
   "id": "35ae495f-d802-42fc-a310-d5178d2ad904",
   "metadata": {},
   "outputs": [],
   "source": [
    "df1 = pd.DataFrame(arr, columns = ['x']+keys)"
   ]
  },
  {
   "cell_type": "code",
   "execution_count": 28,
   "id": "e44747de-2d37-4fd5-9b5e-367676606ec0",
   "metadata": {},
   "outputs": [
    {
     "data": {
      "text/html": [
       "<div>\n",
       "<style scoped>\n",
       "    .dataframe tbody tr th:only-of-type {\n",
       "        vertical-align: middle;\n",
       "    }\n",
       "\n",
       "    .dataframe tbody tr th {\n",
       "        vertical-align: top;\n",
       "    }\n",
       "\n",
       "    .dataframe thead th {\n",
       "        text-align: right;\n",
       "    }\n",
       "</style>\n",
       "<table border=\"1\" class=\"dataframe\">\n",
       "  <thead>\n",
       "    <tr style=\"text-align: right;\">\n",
       "      <th></th>\n",
       "      <th>x</th>\n",
       "      <th>Cont1_PL1</th>\n",
       "      <th>Cont1_QL1</th>\n",
       "      <th>Cont1_f</th>\n",
       "      <th>Cont2_PL1</th>\n",
       "      <th>Cont2_QL1</th>\n",
       "      <th>Cont2_f</th>\n",
       "      <th>Cont3_PL1</th>\n",
       "      <th>Cont3_QL1</th>\n",
       "      <th>Cont3_f</th>\n",
       "      <th>...</th>\n",
       "      <th>Cont4_QL1</th>\n",
       "      <th>Cont4_f</th>\n",
       "      <th>m1P1_y</th>\n",
       "      <th>m2P2_y</th>\n",
       "      <th>m3P3_y</th>\n",
       "      <th>m4P4_y</th>\n",
       "      <th>n1Q1_y</th>\n",
       "      <th>n2Q2_y</th>\n",
       "      <th>n3Q3_y</th>\n",
       "      <th>n4Q4_y</th>\n",
       "    </tr>\n",
       "  </thead>\n",
       "  <tbody>\n",
       "    <tr>\n",
       "      <th>0</th>\n",
       "      <td>0.000083</td>\n",
       "      <td>13563.221680</td>\n",
       "      <td>13586.212891</td>\n",
       "      <td>50.000053</td>\n",
       "      <td>13573.213867</td>\n",
       "      <td>13594.291016</td>\n",
       "      <td>49.999912</td>\n",
       "      <td>13560.876953</td>\n",
       "      <td>13585.772461</td>\n",
       "      <td>50.000099</td>\n",
       "      <td>...</td>\n",
       "      <td>13592.289062</td>\n",
       "      <td>49.999931</td>\n",
       "      <td>1.274943</td>\n",
       "      <td>1.275882</td>\n",
       "      <td>1.274722</td>\n",
       "      <td>1.275749</td>\n",
       "      <td>17.662077</td>\n",
       "      <td>17.672577</td>\n",
       "      <td>17.661505</td>\n",
       "      <td>17.669977</td>\n",
       "    </tr>\n",
       "    <tr>\n",
       "      <th>1</th>\n",
       "      <td>0.000133</td>\n",
       "      <td>13563.283203</td>\n",
       "      <td>13586.144531</td>\n",
       "      <td>50.000053</td>\n",
       "      <td>13573.132812</td>\n",
       "      <td>13594.406250</td>\n",
       "      <td>49.999912</td>\n",
       "      <td>13560.941406</td>\n",
       "      <td>13585.663086</td>\n",
       "      <td>50.000099</td>\n",
       "      <td>...</td>\n",
       "      <td>13592.378906</td>\n",
       "      <td>49.999935</td>\n",
       "      <td>1.274949</td>\n",
       "      <td>1.275874</td>\n",
       "      <td>1.274728</td>\n",
       "      <td>1.275744</td>\n",
       "      <td>17.661987</td>\n",
       "      <td>17.672729</td>\n",
       "      <td>17.661362</td>\n",
       "      <td>17.670092</td>\n",
       "    </tr>\n",
       "    <tr>\n",
       "      <th>2</th>\n",
       "      <td>0.000183</td>\n",
       "      <td>13563.345703</td>\n",
       "      <td>13586.077148</td>\n",
       "      <td>50.000053</td>\n",
       "      <td>13573.049805</td>\n",
       "      <td>13594.521484</td>\n",
       "      <td>49.999912</td>\n",
       "      <td>13561.006836</td>\n",
       "      <td>13585.554688</td>\n",
       "      <td>50.000095</td>\n",
       "      <td>...</td>\n",
       "      <td>13592.466797</td>\n",
       "      <td>49.999935</td>\n",
       "      <td>1.274954</td>\n",
       "      <td>1.275867</td>\n",
       "      <td>1.274735</td>\n",
       "      <td>1.275739</td>\n",
       "      <td>17.661900</td>\n",
       "      <td>17.672878</td>\n",
       "      <td>17.661221</td>\n",
       "      <td>17.670206</td>\n",
       "    </tr>\n",
       "    <tr>\n",
       "      <th>3</th>\n",
       "      <td>0.000233</td>\n",
       "      <td>13563.408203</td>\n",
       "      <td>13586.009766</td>\n",
       "      <td>50.000053</td>\n",
       "      <td>13572.964844</td>\n",
       "      <td>13594.634766</td>\n",
       "      <td>49.999916</td>\n",
       "      <td>13561.075195</td>\n",
       "      <td>13585.447266</td>\n",
       "      <td>50.000095</td>\n",
       "      <td>...</td>\n",
       "      <td>13592.554688</td>\n",
       "      <td>49.999935</td>\n",
       "      <td>1.274960</td>\n",
       "      <td>1.275859</td>\n",
       "      <td>1.274741</td>\n",
       "      <td>1.275734</td>\n",
       "      <td>17.661814</td>\n",
       "      <td>17.673025</td>\n",
       "      <td>17.661081</td>\n",
       "      <td>17.670321</td>\n",
       "    </tr>\n",
       "    <tr>\n",
       "      <th>4</th>\n",
       "      <td>0.000283</td>\n",
       "      <td>13563.472656</td>\n",
       "      <td>13585.944336</td>\n",
       "      <td>50.000050</td>\n",
       "      <td>13572.876953</td>\n",
       "      <td>13594.746094</td>\n",
       "      <td>49.999916</td>\n",
       "      <td>13561.144531</td>\n",
       "      <td>13585.340820</td>\n",
       "      <td>50.000095</td>\n",
       "      <td>...</td>\n",
       "      <td>13592.640625</td>\n",
       "      <td>49.999935</td>\n",
       "      <td>1.274966</td>\n",
       "      <td>1.275850</td>\n",
       "      <td>1.274747</td>\n",
       "      <td>1.275729</td>\n",
       "      <td>17.661728</td>\n",
       "      <td>17.673170</td>\n",
       "      <td>17.660944</td>\n",
       "      <td>17.670433</td>\n",
       "    </tr>\n",
       "  </tbody>\n",
       "</table>\n",
       "<p>5 rows × 21 columns</p>\n",
       "</div>"
      ],
      "text/plain": [
       "          x     Cont1_PL1     Cont1_QL1    Cont1_f     Cont2_PL1  \\\n",
       "0  0.000083  13563.221680  13586.212891  50.000053  13573.213867   \n",
       "1  0.000133  13563.283203  13586.144531  50.000053  13573.132812   \n",
       "2  0.000183  13563.345703  13586.077148  50.000053  13573.049805   \n",
       "3  0.000233  13563.408203  13586.009766  50.000053  13572.964844   \n",
       "4  0.000283  13563.472656  13585.944336  50.000050  13572.876953   \n",
       "\n",
       "      Cont2_QL1    Cont2_f     Cont3_PL1     Cont3_QL1    Cont3_f  ...  \\\n",
       "0  13594.291016  49.999912  13560.876953  13585.772461  50.000099  ...   \n",
       "1  13594.406250  49.999912  13560.941406  13585.663086  50.000099  ...   \n",
       "2  13594.521484  49.999912  13561.006836  13585.554688  50.000095  ...   \n",
       "3  13594.634766  49.999916  13561.075195  13585.447266  50.000095  ...   \n",
       "4  13594.746094  49.999916  13561.144531  13585.340820  50.000095  ...   \n",
       "\n",
       "      Cont4_QL1    Cont4_f    m1P1_y    m2P2_y    m3P3_y    m4P4_y     n1Q1_y  \\\n",
       "0  13592.289062  49.999931  1.274943  1.275882  1.274722  1.275749  17.662077   \n",
       "1  13592.378906  49.999935  1.274949  1.275874  1.274728  1.275744  17.661987   \n",
       "2  13592.466797  49.999935  1.274954  1.275867  1.274735  1.275739  17.661900   \n",
       "3  13592.554688  49.999935  1.274960  1.275859  1.274741  1.275734  17.661814   \n",
       "4  13592.640625  49.999935  1.274966  1.275850  1.274747  1.275729  17.661728   \n",
       "\n",
       "      n2Q2_y     n3Q3_y     n4Q4_y  \n",
       "0  17.672577  17.661505  17.669977  \n",
       "1  17.672729  17.661362  17.670092  \n",
       "2  17.672878  17.661221  17.670206  \n",
       "3  17.673025  17.661081  17.670321  \n",
       "4  17.673170  17.660944  17.670433  \n",
       "\n",
       "[5 rows x 21 columns]"
      ]
     },
     "execution_count": 28,
     "metadata": {},
     "output_type": "execute_result"
    }
   ],
   "source": [
    "df1.head()"
   ]
  },
  {
   "cell_type": "code",
   "execution_count": 8,
   "id": "0248fed6-14b2-4c70-957c-230f0f63befc",
   "metadata": {},
   "outputs": [],
   "source": [
    "df = pd.read_csv('../DCMG_data/Stealth/StealthP1Q1_(0.3to2)sec.csv')"
   ]
  },
  {
   "cell_type": "code",
   "execution_count": 12,
   "id": "9b40af70-75e9-4562-98f4-92c2835cdf19",
   "metadata": {},
   "outputs": [
    {
     "data": {
      "text/plain": [
       "Index(['X axis;Cont1.PL1;Cont1.QL1;Cont1.IL_d;Cont1.IL_q;Cont1.VL_d;Cont1.VL_q;Cont1.f;VLLrms1.y;Cont2.PL1;Cont2.QL1;Cont2.IL_d;Cont2.IL_q;Cont2.VL_d;Cont2.VL_q;Cont2.f;VLLrms2.y;Cont3.PL1;Cont3.QL1;Cont3.IL_d;Cont3.IL_q;Cont3.VL_d;Cont3.VL_q;Cont3.f;VLLrms3.y;Cont4.PL1;Cont4.QL1;Cont4.IL_d;Cont4.IL_q;Cont4.VL_d;Cont4.VL_q;Cont4.f;VLLrms4.y;Cont1.f;Cont2.f;Cont3.f;Cont4.f;m1P1.y;m2P2.y;m3P3.y;m4P4.y;n1Q1.y;n2Q2.y;n3Q3.y;n4Q4.y;VLLrms1.y;VLLrms2.y;VLLrms3.y;VLLrms4.y;Vb1rms.a_rms;Vb1rms.b_rms;Vb1rms.c_rms;Vb2rms.a_rms;Vb2rms.b_rms;Vb2rms.c_rms;Vb3rms.a_rms;Vb3rms.b_rms;Vb3rms.c_rms;Vb4rms.a_rms;Vb4rms.b_rms;Vb4rms.c_rms;I1arms.a_rms;I1arms.b_rms;I1arms.c_rms;I2arms.a_rms;I2arms.b_rms;I2arms.c_rms;I3arms.a_rms;I3arms.b_rms;I3arms.c_rms;I1brms.a_rms;I1brms.b_rms;I1brms.c_rms;I2brms.a_rms;I2brms.b_rms;I2brms.c_rms;I3brms.a_rms;I3brms.b_rms;I3brms.c_rms;IRMS1.a;IRMS1.b;IRMS1.c;IRMS2.a;IRMS2.b;IRMS2.c;IRMS3.a;IRMS3.b;IRMS3.c;Bus1.Vdbus;Bus1.Vqbus;Bus2.Vdbus;Bus2.Vqbus;Bus3.Vdbus;Bus3.Vqbus;Bus4.Vdbus;Bus4.Vqbus;'], dtype='object')"
      ]
     },
     "execution_count": 12,
     "metadata": {},
     "output_type": "execute_result"
    }
   ],
   "source": [
    "df.columns"
   ]
  }
 ],
 "metadata": {
  "kernelspec": {
   "display_name": "lstm",
   "language": "python",
   "name": "lstm"
  },
  "language_info": {
   "codemirror_mode": {
    "name": "ipython",
    "version": 3
   },
   "file_extension": ".py",
   "mimetype": "text/x-python",
   "name": "python",
   "nbconvert_exporter": "python",
   "pygments_lexer": "ipython3",
   "version": "3.8.5"
  }
 },
 "nbformat": 4,
 "nbformat_minor": 5
}
